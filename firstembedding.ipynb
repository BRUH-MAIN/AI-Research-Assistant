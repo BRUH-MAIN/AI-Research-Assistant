{
 "cells": [
  {
   "cell_type": "code",
   "execution_count": 3,
   "id": "c6a5069f",
   "metadata": {},
   "outputs": [],
   "source": [
    "from langchain_google_genai import GoogleGenerativeAIEmbeddings\n",
    "from langchain.vectorstores import Qdrant\n",
    "from langchain.text_splitter import RecursiveCharacterTextSplitter\n",
    "from langchain.document_loaders import PyPDFLoader\n",
    "import os\n",
    "from dotenv import load_dotenv"
   ]
  },
  {
   "cell_type": "code",
   "execution_count": 4,
   "id": "cf267c9a",
   "metadata": {},
   "outputs": [],
   "source": [
    "#load gemini api key from .env file\n",
    "load_dotenv()\n",
    "gemini_api_key = os.getenv(\"GEMINI_API_KEY\")\n",
    "qdrant_api_key = os.getenv(\"QDRANT_API_KEY\")\n",
    "if not gemini_api_key:\n",
    "    raise ValueError(\"GEMINI_API_KEY is not set in the environment variables.\")\n",
    "if not qdrant_api_key:\n",
    "    raise ValueError(\"QDRANT_API_KEY is not set in the environment variables.\")\n"
   ]
  },
  {
   "cell_type": "code",
   "execution_count": 8,
   "id": "6c909dfe",
   "metadata": {},
   "outputs": [
    {
     "name": "stdout",
     "output_type": "stream",
     "text": [
      "Collection 'gemini_embeddings' created successfully.\n"
     ]
    }
   ],
   "source": [
    "from qdrant_client import QdrantClient\n",
    "qdrant_client = QdrantClient(\n",
    "    url=\"https://d5a5f5ce-ffe6-4b64-b58e-361b6ec60509.us-west-2-0.aws.cloud.qdrant.io\",\n",
    "    api_key=qdrant_api_key,\n",
    ")\n",
    "\n",
    "collection_name = \"gemini_embeddings\"\n",
    "\n",
    "try:\n",
    "    # Check if collection exists\n",
    "    collection_info = qdrant_client.get_collection(collection_name)\n",
    "    print(f\"Collection '{collection_name}' already exists.\")\n",
    "except Exception as e:\n",
    "    # If collection doesn't exist, create it\n",
    "    try:\n",
    "        qdrant_client.create_collection(\n",
    "            collection_name=collection_name,\n",
    "            vectors_config={\n",
    "                \"vector\": {\n",
    "                    \"size\": 768,  \n",
    "                    \"distance\": \"Cosine\"  \n",
    "                }\n",
    "            }\n",
    "        )\n",
    "        print(f\"Collection '{collection_name}' created successfully.\")\n",
    "    except Exception as create_error:\n",
    "        print(f\"Failed to create collection '{collection_name}': {create_error}\")"
   ]
  },
  {
   "cell_type": "code",
   "execution_count": null,
   "id": "f62d85fc",
   "metadata": {},
   "outputs": [],
   "source": [
    "\n",
    "# Load the PDF file\n",
    "pdf_file_path = \"sample.pdf\"\n",
    "loader = PyPDFLoader(pdf_file_path)\n",
    "documents = loader.load()\n",
    "\n",
    "# Split the documents into smaller chunks\n",
    "text_splitter = RecursiveCharacterTextSplitter(\n",
    "    chunk_size=768,  # Adjust chunk size as needed\n",
    "    chunk_overlap=200  # Adjust overlap as needed\n",
    ")\n",
    "split_documents = text_splitter.split_documents(documents)\n",
    "# Create embeddings using Google Generative AI\n",
    "embeddings = GoogleGenerativeAIEmbeddings(\n",
    "    model_name=\"gemini-embedding-exp-03-07\",\n",
    "    api_key=gemini_api_key,\n",
    "    max_retries=3,\n",
    "    timeout=60,\n",
    ")\n",
    "# Create a Qdrant vector store\n",
    "vector_store = Qdrant.from_documents(\n",
    "    documents=split_documents,\n",
    "    embedding=embeddings,\n",
    "    collection_name=collection_name,\n",
    "    client=qdrant_client,\n",
    ")\n"
   ]
  }
 ],
 "metadata": {
  "kernelspec": {
   "display_name": "venv",
   "language": "python",
   "name": "python3"
  },
  "language_info": {
   "codemirror_mode": {
    "name": "ipython",
    "version": 3
   },
   "file_extension": ".py",
   "mimetype": "text/x-python",
   "name": "python",
   "nbconvert_exporter": "python",
   "pygments_lexer": "ipython3",
   "version": "3.12.3"
  }
 },
 "nbformat": 4,
 "nbformat_minor": 5
}
