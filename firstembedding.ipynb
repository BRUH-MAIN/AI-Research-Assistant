{
 "cells": [
  {
   "cell_type": "code",
   "execution_count": 6,
   "id": "c6a5069f",
   "metadata": {},
   "outputs": [],
   "source": [
    "from langchain_google_genai import GoogleGenerativeAIEmbeddings\n",
    "from langchain.vectorstores import Qdrant\n",
    "from langchain.text_splitter import RecursiveCharacterTextSplitter\n",
    "from langchain.document_loaders import PyPDFLoader\n",
    "import google.generativeai as genai\n",
    "import os\n",
    "from dotenv import load_dotenv"
   ]
  },
  {
   "cell_type": "code",
   "execution_count": 7,
   "id": "cf267c9a",
   "metadata": {},
   "outputs": [],
   "source": [
    "#load gemini api key from .env file\n",
    "load_dotenv()\n",
    "gemini_api_key = os.getenv(\"GEMINI_API_KEY\")\n",
    "qdrant_api_key = os.getenv(\"QDRANT_API_KEY\")\n",
    "if not gemini_api_key:\n",
    "    raise ValueError(\"GEMINI_API_KEY is not set in the environment variables.\")\n",
    "if not qdrant_api_key:\n",
    "    raise ValueError(\"QDRANT_API_KEY is not set in the environment variables.\")\n"
   ]
  },
  {
   "cell_type": "code",
   "execution_count": 8,
   "id": "6c909dfe",
   "metadata": {},
   "outputs": [
    {
     "name": "stdout",
     "output_type": "stream",
     "text": [
      "Collection 'gemini_embeddings' already exists.\n"
     ]
    }
   ],
   "source": [
    "from qdrant_client.models import VectorParams, Distance\n",
    "from qdrant_client import QdrantClient\n",
    "qdrant_client = QdrantClient(\n",
    "    url=\"https://d5a5f5ce-ffe6-4b64-b58e-361b6ec60509.us-west-2-0.aws.cloud.qdrant.io\",\n",
    "    api_key=qdrant_api_key,\n",
    ")\n",
    "collection_name = \"gemini_embeddings\"\n",
    "try:\n",
    "    collection_info = qdrant_client.get_collection(collection_name)\n",
    "    print(f\"Collection '{collection_name}' already exists.\")\n",
    "except Exception as e:\n",
    "    try:\n",
    "        qdrant_client.create_collection(\n",
    "            collection_name=collection_name,\n",
    "            vectors_config=VectorParams(size=768, distance=Distance.COSINE)\n",
    "        )\n",
    "        print(f\"Collection '{collection_name}' created successfully.\")\n",
    "    except Exception as create_error:\n",
    "        print(f\"Failed to create collection '{collection_name}': {create_error}\")"
   ]
  },
  {
   "cell_type": "code",
   "execution_count": 11,
   "id": "f62d85fc",
   "metadata": {},
   "outputs": [
    {
     "name": "stderr",
     "output_type": "stream",
     "text": [
      "/tmp/ipykernel_14754/2480276051.py:17: LangChainDeprecationWarning: The class `Qdrant` was deprecated in LangChain 0.0.37 and will be removed in 1.0. An updated version of the class exists in the :class:`~langchain-qdrant package and should be used instead. To use it run `pip install -U :class:`~langchain-qdrant` and import as `from :class:`~langchain_qdrant import Qdrant``.\n",
      "  vector_store = Qdrant(\n"
     ]
    },
    {
     "data": {
      "text/plain": [
       "['f5ccda36d58f490b9adc1312a7ea58ed',\n",
       " '729cc79e50b14e1dba08817e5b7470c9',\n",
       " 'f9d95e74051d439489422d2c0be94a36',\n",
       " '87b509332cce42efa34826980f7c6d1f',\n",
       " 'b5b5364789a4420a91fd4836af946ae9']"
      ]
     },
     "execution_count": 11,
     "metadata": {},
     "output_type": "execute_result"
    }
   ],
   "source": [
    "pdf_file_path = \"Docker.pdf\"\n",
    "loader = PyPDFLoader(pdf_file_path)\n",
    "documents = loader.load()\n",
    "text_splitter = RecursiveCharacterTextSplitter(\n",
    "    chunk_size=768,\n",
    "    chunk_overlap=200\n",
    ")\n",
    "split_documents = text_splitter.split_documents(documents)\n",
    "embeddings = GoogleGenerativeAIEmbeddings(\n",
    "    model=\"models/embedding-001\",\n",
    "    google_api_key=gemini_api_key,\n",
    "    max_retries=3,\n",
    "    timeout=60,\n",
    ")\n",
    "\n",
    "# Create the vector store instance with the existing client\n",
    "vector_store = Qdrant(\n",
    "    client=qdrant_client,\n",
    "    collection_name=collection_name,\n",
    "    embeddings=embeddings,\n",
    ")\n",
    "\n",
    "# Add documents to the vector store\n",
    "vector_store.add_documents(split_documents)"
   ]
  },
  {
   "cell_type": "code",
   "execution_count": 12,
   "id": "8e7cbe56",
   "metadata": {},
   "outputs": [
    {
     "name": "stdout",
     "output_type": "stream",
     "text": [
      "Found 3 similar documents for query: 'What is Docker?'\n",
      "\n",
      "First result:\n",
      "Docker \n",
      "• Docker is an open-source platform that automates the deployment, scaling, and \n",
      "management of applications inside containers. \n",
      "• Containers package software with all its dependencies, ensurin...\n"
     ]
    }
   ],
   "source": [
    "# Test the vector store with a similarity search\n",
    "query = \"What is Docker?\"\n",
    "similar_docs = vector_store.similarity_search(query, k=3)\n",
    "print(f\"Found {len(similar_docs)} similar documents for query: '{query}'\")\n",
    "print(\"\\nFirst result:\")\n",
    "print(similar_docs[0].page_content[:200] + \"...\" if len(similar_docs[0].page_content) > 200 else similar_docs[0].page_content)"
   ]
  }
 ],
 "metadata": {
  "kernelspec": {
   "display_name": "myenv",
   "language": "python",
   "name": "python3"
  },
  "language_info": {
   "codemirror_mode": {
    "name": "ipython",
    "version": 3
   },
   "file_extension": ".py",
   "mimetype": "text/x-python",
   "name": "python",
   "nbconvert_exporter": "python",
   "pygments_lexer": "ipython3",
   "version": "3.11.13"
  }
 },
 "nbformat": 4,
 "nbformat_minor": 5
}
